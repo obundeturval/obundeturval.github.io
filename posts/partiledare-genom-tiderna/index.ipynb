{
 "cells": [
  {
   "cell_type": "raw",
   "metadata": {},
   "source": [
    "<iframe id=\"igraph\" scrolling=\"no\" style=\"border:none;\" \n",
    "seamless=\"seamless\" src=\"https://plotly.com/~haschischa/1.embed\" height=\"650\" width=\"110%\"></iframe>"
   ]
  },
  {
   "cell_type": "markdown",
   "metadata": {
    "raw_mimetype": "text/markdown"
   },
   "source": [
    "På ett sätt är det en ganska intetsägande sammanställning. Ålder och antal år i ämbetet är kul trivia, men inte så mycket mer. Det är ju *valresultaten*, eller åtminstone utfallen från *opinionsundersökningar*, som man vill komma åt! Kanske kommer jag till det vid senare tillfälle.\n",
    "\n",
    "Efter att ha trackat ner lite på denna min första skapelse vill jag ändå i den till synes meningslösa trivians tecken peka ut de mest anmäkrningsvärda detaljerna i ovanstående graf, och vad är då mer ändamålsenilgt än en **lista**?!\n",
    "\n",
    "Här är alltså den fullspeckade listan över ***de tio minst ointressanta sakerna som slog mig när jag tittade på den här grafen samt gjorde lite wikipedia-research om olika partiledare***:\n",
    "\n",
    "10.) Skottåret 1896 slår Storbritannien och Zanzibar världsrekordrekord i kortaste krig (38 minuter), Storbritanniens 99-åriga leasande av Hong Kong påbörjas, och *Cleas Tholin tillträder som första partiordförande för Sveriges socialdemokratiska arbetarparti*. Han blev dock aldrig statsminister, vilket faktiskt är ovanligt för socialdemokratiska partiledare. Det skulle dröja inte mindre än *111 år* innan man återigen valde en ordförande som inte blev statsminister, dvs. Mona Sahlin. \n",
    "\n",
    "9.) Trots att Miljöpartiet är det parti som existerat kortast tid, har det ändå haft flest politiska ledare, hela 18 stycken. Detta inte bara på grund av det språkrörssystem partiet valt att använda, där man alltid har två språkrör, ett manligt och ett kvinnligt, utan också för att dessa i genomsnittet suttit relativt kort tid på sina poster. \n",
    "\n",
    "8.) Tage Erlander och Bertil Ohlin var bittra fiender från början till slut. Därför finns en, egentligen helt betydelselös, ironi i att de var lika gamla då de tillträdde som partiledare, och satt på den post nästan exakt lika länge (Ohlin var dock två år före Erlander med tillträde/avgång).  \n",
    "\n",
    "7.) Flest kvinnliga partiledare har Centerpartiet haft, hela tre stycken... om man bortser från partier som har inskrivet i stadgarna att man alltid ska ha en kvinnlig och en manlig ledare och dessutom kalla dem språkrör. \n",
    "\n",
    "6.) En annan kul sak med Centerpartiet är att många av dess gamla partiledare hade suffix av typen \"... i Kullenbergstorp\" (på den tiden hette partiet dock Bondeförbundet). \n",
    "\n",
    "5.) Tage Erlander sägs vara den demokratiskt valda statsminister som suttit längst på sin post i hela världen. Följande faktoid är inte riktigt lika slagkraftig, men i Sverige är i varje fall Arvid Lindman den statsminister som varit partiledare längst tid. Det finns bara en person som överhuvudtaget varit partiledare längre än honom och det är...\n",
    "\n",
    "4.) Alf Svensson. Han spelar i en klass för sig. Bara sju partiledare har suttit i mer än 20 år, men ingen av de övriga sex har suttit längre än ens 25 år. Arvid Lindman satt i dryga 23. Men det är fortfarande *sju år* kortare än vad Kristdemokraternas andra partieldare innehade ämbetet. Sju år är längre tid än...\n",
    "\n",
    "3.) ... vad både Felix Hamrin, Sven Wedén, Gunnar Helén, Per Ahlmark, Ola Ullsten och Maria Leissner, alltså hälften av alla människor som någon gång varit partiledare för Liberalerna (tidigare Folkpartiet), kunnat titulera sig som just det. Inge av dessa höll i ordförandeklubban i mer än sex år. \n",
    "\n",
    "2). Även Vänsterpartiet (här blir det bökigt att lista alla namn men ni vet vilka ni är!) har hafte en del ledare som suttit kortare perioder. Inget annat parti har haft så många ledare som suttit i ett år eller mindre (fyra stycken). Det ska tilläggas att till den skara räknas även det jag i grafen valt att kalla Zeth Höglund I, eftersom \"Zäta\" tjänstgjorde i två olika omgånger. \n",
    "\n",
    "1.) Än har jag inte sagt något om Sverigedemokraterna, men det är mest för att de ännu haft så få partiledare så det finns inte så mycket statistisk material att ta av (de har egentligen haft ytterligare personer i någon form av ledarroll för partiet, men det var inte helt tydligt så jag valde att bara ta med dem som entydigt kallades för partiledare). Det enda jag kan komma på här är att samtliga tre personer är på topp tio-listan över yngsta partiledare vid tillträde, och två att dem innehar till och med första- och andraplats. \n",
    "\n",
    "Nu blev det inte riktigt någon inbördes ordning mellan punkterna på den här listan. Jag tycker nog fortfarande att Alf Svensson prestation är den mest iögonfallande, men jag orkar inte tänka efter ordentligt och göra om det här nu. \n",
    "\n"
   ]
  }
 ],
 "metadata": {
  "celltoolbar": "Raw Cell Format",
  "kernelspec": {
   "display_name": "Python 3",
   "language": "python",
   "name": "python3"
  },
  "language_info": {
   "codemirror_mode": {
    "name": "ipython",
    "version": 3
   },
   "file_extension": ".py",
   "mimetype": "text/x-python",
   "name": "python",
   "nbconvert_exporter": "python",
   "pygments_lexer": "ipython3",
   "version": "3.8.2"
  },
  "nikola": {
   "category": "blogg",
   "date": "2020-05-12 21:59:00 UTC+01:00",
   "description": "",
   "link": "",
   "slug": "partiledare-genom-tiderna",
   "tags": "",
   "title": "Tre sekel av partiledare",
   "type": "text"
  }
 },
 "nbformat": 4,
 "nbformat_minor": 4
}
