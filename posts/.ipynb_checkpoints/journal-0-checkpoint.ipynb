{
 "cells": [
  {
   "cell_type": "raw",
   "metadata": {},
   "source": [
    "En dag av frustration. Försökte få ett annat tema till bloggen att fungera, men det visade sig vara mycket mer komplicerat än jag kunnat ana. För bootstrap-familjen verkar det vara relativt görbart via bootswatch, men av det svaret jag fick på nikola-paketets GitHub verkar man för övriga teman behöva skapa följande fil: files/assets/css/custom.css, och redigera den för eget behov. Så jag skippar det för tillfället. \n",
    "\n",
    "Av någon anledning ville heller inte lanyon eller -jidn-temana funka. Blir ej klok på't. Men lyckades i alla fall med att hålla ilskan inom mig och inte ge utlopp för den fysiskt genom slag i bord/vägger/saker. Det är ju också en framgång."
   ]
  }
 ],
 "metadata": {
  "kernelspec": {
   "display_name": "Python 3",
   "language": "python",
   "name": "python3"
  },
  "language_info": {
   "codemirror_mode": {
    "name": "ipython",
    "version": 3
   },
   "file_extension": ".py",
   "mimetype": "text/x-python",
   "name": "python",
   "nbconvert_exporter": "python",
   "pygments_lexer": "ipython3",
   "version": "3.8.2"
  },
  "nikola": {
   "category": "journal",
   "date": "2020-05-23 15:00:00 UTC+01:00",
   "description": "",
   "link": "",
   "slug": "journal-0",
   "tags": "draft",
   "title": "Tema: frustration",
   "type": "text"
  }
 },
 "nbformat": 4,
 "nbformat_minor": 4
}
