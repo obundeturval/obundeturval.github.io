{
 "cells": [
  {
   "cell_type": "markdown",
   "metadata": {},
   "source": [
    "En grafik över riksdagspartiernas ledare genom tiderna."
   ]
  },
  {
   "cell_type": "raw",
   "metadata": {
    "raw_mimetype": "text/markdown"
   },
   "source": [
    "<iframe id=\"igraph\" scrolling=\"no\" style=\"border:none;\" \n",
    "seamless=\"seamless\" src=\"https://plotly.com/~haschischa/1.embed\" height=\"525\" width=\"100%\"></iframe>"
   ]
  },
  {
   "cell_type": "raw",
   "metadata": {
    "raw_mimetype": "text/markdown"
   },
   "source": [
    "På ett sätt är det en ganska intetsägande sammanställning. Ålder och antal år i ämbetet är kul trivia, men inte så mycket mer. Det är ju *valresultaten*, eller åtminstone utfallen från *opinionsundersökningar*, som man vill komma åt! Kanske kommer jag till det vid senare tillfälle.\n",
    "\n",
    "Efter att ha trackat ner lite på denna min första skapelse vill jag ändå i trivians tecken peka ut de mest anmäkrningsvärda detaljerna i ovanstående graf, och vad är då mer ändamålsenilgt än en klassisk **lista**?!\n",
    "\n",
    "Här är alltså den fullsmockade listan över ***de topp tio (10!!!) mest anmärkningsvärda sakerna om Sveriges partiledare om man bara tittar på ålder vid tillträde och år i ämbetet + random kul fakta om dem***. Och som alla bra listor börjar vi givetvis nerifrån och upp:\n",
    "\n",
    "10.) Skottåret 1896 slår Storbritannien och Zanzibar världsrekordrekord i kortaste krig (38 minuter), FN:s första generalsekreterare Tryggve Lie föds, och *Cleas Tholin tillträder som första partiordförande för Sveriges socialdemokratiska arbetarparti*. Han blev dock aldrig statsminister, vilket faktiskt är ovanligt för socialdemokratiska partiledare. Det skulle dröja inte mindre än *111 år* innan man återigen valde en ordförande som inte blev statsminister, dvs. Mona Sahlin. \n",
    "\n",
    "9.) Trots att Miljöpartiet är det parti som existerat kortast tid, har det ändå haft flest politiska ledare, hela 18 stycken. Detta inte bara på grund av det språkrörssystem partiet valt att använda, där man alltid har två språkrör, ett manligt och ett kvinnligt, utan också för att dessa i genomsnittet suttit relativt kort tid på sina poster. \n",
    "\n",
    "8.) Tage Erlander och Bertil Ohlin var bittra fiender från början till slut. Förmodligen fanns det ingen annan politiker som Erlander kände så stort agg mot som Ohlin. Just därför framstår denna graf som lite extra lustig i det att de var nästan exakt lika gamla vid tillträdet som partiledare, och satt nästan exakt lika länge på denna post. \n",
    "\n",
    "7.) \n",
    "\n",
    "4.) Alf Svensson spelar i en klass för sig. Bara sju partiledare har suttit i mer än 20 år, men ingen av de övriga sex har suttit längre än ens 25 år. Arvid Lindman satt i dryga 23. Men det är fortfarande *sju år* kortare än Kristdemokraternas andra partieldare gjorde. Trettio år som ledare för sitt parti, det är bättre än vad de flesta diktatorer klarar av! \n",
    "\n",
    "3.) Oavsett vad man tycker i sakfrågan så är det någon form av ironi att S och V, som åtminstone sedan ett par decennium tillbaka profilerat sig som feministiska partier, haft lika många kvinnliga partiledare som Centerpartiet.  \n",
    "\n"
   ]
  }
 ],
 "metadata": {
  "celltoolbar": "Raw Cell Format",
  "kernelspec": {
   "display_name": "Python 3",
   "language": "python",
   "name": "python3"
  },
  "language_info": {
   "codemirror_mode": {
    "name": "ipython",
    "version": 3
   },
   "file_extension": ".py",
   "mimetype": "text/x-python",
   "name": "python",
   "nbconvert_exporter": "python",
   "pygments_lexer": "ipython3",
   "version": "3.8.2"
  },
  "nikola": {
   "category": "blogg",
   "date": "2020-05-12 21:59:00 UTC+01:00",
   "description": "",
   "link": "",
   "slug": "partiledare-genom-tiderna",
   "tags": "",
   "title": "Tre sekel av partiledare",
   "type": "text"
  }
 },
 "nbformat": 4,
 "nbformat_minor": 4
}
