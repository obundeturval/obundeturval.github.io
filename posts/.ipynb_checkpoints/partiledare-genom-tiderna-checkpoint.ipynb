{
 "cells": [
  {
   "cell_type": "raw",
   "metadata": {},
   "source": [
    "En grafik över riksdagspartiernas ledare genom tiderna."
   ]
  },
  {
   "cell_type": "raw",
   "metadata": {},
   "source": [
    "<iframe id=\"igraph\" scrolling=\"no\" style=\"border:none;\" \n",
    "seamless=\"seamless\" src=\"https://plotly.com/~haschischa/1.embed\" height=\"525\" width=\"100%\"></iframe>"
   ]
  },
  {
   "cell_type": "markdown",
   "metadata": {},
   "source": [
    "På ett sätt är det en ganska intetsägande sammanställning. Ålder och antal år i ämbetet är kul trivia, men inte så mycket mer. Det är ju *valresultaten*, eller åtminstone utfallen från *opinionsundersökningar*, som man vill komma åt! Kanske kommer jag till det vid senare tillfälle.\n",
    "\n",
    "Efter att ha trackat ner lite på denna min första skapelse vill jag ändå i trivians tecken peka ut de mest anmäkrningsvärda detaljerna i ovanstående graf, och vad är då mer ändamålsenilgt än en klassisk **lista**?!\n",
    "\n",
    "Här är alltså den fullsmockade listan över ***de topp tio (10!!!) mest anmärkningsvärda sakerna om Sveriges partiledare om man bara tittar på ålder vid tillträde och år i ämbetet + random kul fakta om dem***. Och som alla bra listor börjar vi givetvis nerifrån och upp:\n",
    "\n",
    "10.) Skottåret 1896 slår Storbritannien och Zanzibar rekord i världshistoriens kortaste krig (38 minuter), FN:s första generalsekreterare Tryggve Lie föds, och *Cleas Tholin tillträder som första partiordförande för Sveriges socialdemokratiska arbetarpartiet*. Efter honom skulle det, fram till dagens datum, alltså 124 år senare, bli (bara)  *nio* ytterligare människor som innehaft samma post. Av dessa sammantaget tio partiledare för S, har *hälften* också blivit statsministrar. (Dessutom finns det ytterligare en socialdemokrat som varit statsminister, nämligen Östen Undén, men det var bara som de närmsta dagarna efter Per Albin Hanssons död, innan partiet enats om en riktig efterträdare, dvs. Tage Erlander). \n",
    "\n",
    "9.) \n",
    "\n",
    "\n"
   ]
  }
 ],
 "metadata": {
  "kernelspec": {
   "display_name": "Python 3",
   "language": "python",
   "name": "python3"
  },
  "language_info": {
   "codemirror_mode": {
    "name": "ipython",
    "version": 3
   },
   "file_extension": ".py",
   "mimetype": "text/x-python",
   "name": "python",
   "nbconvert_exporter": "python",
   "pygments_lexer": "ipython3",
   "version": "3.8.2"
  },
  "nikola": {
   "category": "blogg",
   "date": "2020-05-12 21:59:00 UTC+01:00",
   "description": "",
   "link": "",
   "slug": "partiledare-genom-tiderna",
   "tags": "",
   "title": "Tre sekel av partiledare",
   "type": "text"
  }
 },
 "nbformat": 4,
 "nbformat_minor": 4
}
