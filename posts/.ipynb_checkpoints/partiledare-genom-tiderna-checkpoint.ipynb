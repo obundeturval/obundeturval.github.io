{
 "cells": [
  {
   "cell_type": "raw",
   "metadata": {},
   "source": [
    "En grafik över riksdagspartiernas ledare genom tiderna."
   ]
  },
  {
   "cell_type": "raw",
   "metadata": {},
   "source": [
    "<iframe id=\"igraph\" scrolling=\"no\" style=\"border:none;\" \n",
    "seamless=\"seamless\" src=\"https://plotly.com/~haschischa/1.embed\" height=\"525\" width=\"100%\"></iframe>"
   ]
  }
 ],
 "metadata": {
  "kernelspec": {
   "display_name": "Python 3",
   "language": "python",
   "name": "python3"
  },
  "language_info": {
   "codemirror_mode": {
    "name": "ipython",
    "version": 3
   },
   "file_extension": ".py",
   "mimetype": "text/x-python",
   "name": "python",
   "nbconvert_exporter": "python",
   "pygments_lexer": "ipython3",
   "version": "3.8.2"
  },
  "nikola": {
   "category": "blogg",
   "date": "2020-05-12 21:59:00 UTC+01:00",
   "description": "",
   "link": "",
   "slug": "partiledare-genom-tiderna",
   "tags": "",
   "title": "Tre sekel av partiledare",
   "type": "text"
  }
 },
 "nbformat": 4,
 "nbformat_minor": 4
}
